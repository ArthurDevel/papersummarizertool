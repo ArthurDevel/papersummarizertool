{
 "cells": [
  {
   "cell_type": "code",
   "execution_count": null,
   "metadata": {},
   "outputs": [],
   "source": [
    "# Setup: imports, client, and constants (Basic OCR)\n",
    "import os\n",
    "import json\n",
    "import base64\n",
    "from pathlib import Path\n",
    "from dotenv import load_dotenv\n",
    "from mistralai import Mistral\n",
    "\n",
    "# Load environment and init client\n",
    "load_dotenv()\n",
    "api_key = os.environ[\"MISTRAL_API_KEY\"]\n",
    "client = Mistral(api_key=api_key)\n",
    "\n",
    "# Paths and model\n",
    "NOTEBOOK_DIR = Path.cwd()\n",
    "PDF_PATH = Path(\"/Users/Focus/Documents/Codebases/papersummarizer/testscripts/2507.18071v2.pdf\")\n",
    "MODEL = \"mistral-ocr-latest\"\n",
    "\n",
    "print(f\"Using PDF: {PDF_PATH}\")\n",
    "assert PDF_PATH.exists(), \"PDF not found. Update PDF_PATH if needed.\"\n"
   ]
  },
  {
   "cell_type": "code",
   "execution_count": null,
   "metadata": {},
   "outputs": [],
   "source": [
    "# Run Basic OCR; request image crops\n",
    "with open(PDF_PATH, \"rb\") as f:\n",
    "    pdf_bytes = f.read()\n",
    "\n",
    "data_url = \"data:application/pdf;base64,\" + base64.b64encode(pdf_bytes).decode(\"utf-8\")\n",
    "\n",
    "ocr_response = client.ocr.process(\n",
    "    model=MODEL,\n",
    "    document={\n",
    "        \"type\": \"document_url\",\n",
    "        \"document_url\": data_url,\n",
    "    },\n",
    "    include_image_base64=True,\n",
    ")\n",
    "\n",
    "ocr_response\n"
   ]
  },
  {
   "cell_type": "code",
   "execution_count": null,
   "metadata": {},
   "outputs": [],
   "source": [
    "# Print per-page markdown output\n",
    "for page in ocr_response.pages:\n",
    "    print(f\"\\n## Page {page.index}\")\n",
    "    print(page.markdown)\n"
   ]
  },
  {
   "cell_type": "code",
   "execution_count": null,
   "metadata": {},
   "outputs": [],
   "source": [
    "# Print bbox coordinates per page\n",
    "pages = getattr(ocr_response, \"pages\", []) or []\n",
    "for page in pages:\n",
    "    dims = getattr(page, \"dimensions\", None)\n",
    "    print(f\"\\n=== Page {page.index} dimensions: {getattr(dims, 'width', None)}x{getattr(dims, 'height', None)} (dpi={getattr(dims, 'dpi', None)}) ===\")\n",
    "    images = getattr(page, \"images\", []) or []\n",
    "    if not images:\n",
    "        print(\"(no image bboxes)\")\n",
    "    for i, img in enumerate(images, start=1):\n",
    "        tlx = getattr(img, \"top_left_x\", None)\n",
    "        tly = getattr(img, \"top_left_y\", None)\n",
    "        brx = getattr(img, \"bottom_right_x\", None)\n",
    "        bry = getattr(img, \"bottom_right_y\", None)\n",
    "        width = (brx - tlx) if (tlx is not None and brx is not None) else None\n",
    "        height = (bry - tly) if (tly is not None and bry is not None) else None\n",
    "        print(f\"- Image {i}: top_left=({tlx},{tly}) bottom_right=({brx},{bry}) size=({width}x{height}) id={getattr(img,'id',None)}\")\n"
   ]
  },
  {
   "cell_type": "code",
   "execution_count": null,
   "metadata": {},
   "outputs": [],
   "source": [
    "# Display cropped images for each bbox inline\n",
    "from IPython.display import display\n",
    "from PIL import Image as PILImage\n",
    "import io\n",
    "\n",
    "for page in ocr_response.pages:\n",
    "    print(f\"\\n=== Cropped images for Page {page.index} ===\")\n",
    "    for i, img in enumerate(getattr(page, \"images\", []) or [], start=1):\n",
    "        data_str = getattr(img, \"image_base64\", None)\n",
    "        if not data_str:\n",
    "            print(f\"- Image {i}: <no image_base64>\")\n",
    "            continue\n",
    "        try:\n",
    "            if data_str.startswith(\"data:\"):\n",
    "                _, b64_data = data_str.split(\",\", 1)\n",
    "            else:\n",
    "                b64_data = data_str\n",
    "            image_bytes = base64.b64decode(b64_data)\n",
    "            pil_img = PILImage.open(io.BytesIO(image_bytes))\n",
    "            print(f\"- Image {i}, size={pil_img.size}\")\n",
    "            display(pil_img)\n",
    "        except Exception as e:\n",
    "            print(f\"- Image {i}: failed to decode/display ({e})\")\n"
   ]
  }
 ],
 "metadata": {
  "kernelspec": {
   "display_name": ".venv",
   "language": "python",
   "name": "python3"
  },
  "language_info": {
   "codemirror_mode": {
    "name": "ipython",
    "version": 3
   },
   "file_extension": ".py",
   "mimetype": "text/x-python",
   "name": "python",
   "nbconvert_exporter": "python",
   "pygments_lexer": "ipython3",
   "version": "3.10.0"
  }
 },
 "nbformat": 4,
 "nbformat_minor": 2
}
